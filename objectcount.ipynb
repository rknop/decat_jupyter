{
 "cells": [
  {
   "cell_type": "code",
   "execution_count": 2,
   "id": "bc18eba9-37de-4099-8d17-84e92bec4d0a",
   "metadata": {},
   "outputs": [],
   "source": [
    "# %matplotlib inline\n",
    "import sys\n",
    "import os\n",
    "import pathlib\n",
    "import pandas\n",
    "import numpy\n",
    "import psycopg2\n",
    "import psycopg2.extras\n",
    "from matplotlib import pyplot"
   ]
  },
  {
   "cell_type": "code",
   "execution_count": 3,
   "id": "e012c609-1454-4298-a064-5268139fb45a",
   "metadata": {},
   "outputs": [],
   "source": [
    "# Somehow you have to get the \"dbuser\" and \"dbpasswd\" variables\n",
    "# filled with the right username and password to connect to the\n",
    "# database.  You could do a prompt with input, for example.  But,\n",
    "# don't code passwords into anything that will be public (e.g.\n",
    "# committed to a github archive).  I have a \"secrets\" directory\n",
    "# under my home directory that is *not* group or world readable,\n",
    "# and I put files there that aren't group or world readable with\n",
    "# passwords.  This still isn't great, but I decided that the tradeoff\n",
    "# of having that there vs. having to type it every time I wanted\n",
    "# to run the script was worth it.  (It also allows background\n",
    "# execution.)\n",
    "\n",
    "with open( pathlib.Path( os.getenv(\"HOME\") ) / \"secrets/decatdb_decat_decat_ro\" ) as ifp:\n",
    "    dbuser, dbpasswd = ifp.readline().strip().split()"
   ]
  },
  {
   "cell_type": "code",
   "execution_count": 4,
   "id": "3d160c5c-deee-48fd-841f-c98a3041e31e",
   "metadata": {},
   "outputs": [],
   "source": [
    "# Connect to the database\n",
    "db = psycopg2.connect( dbname=\"decat\", host=\"decatdb.lbl.gov\", port=5432, user=dbuser, password=dbpasswd,\n",
    "                       cursor_factory=psycopg2.extras.RealDictCursor )\n",
    "cursor = db.cursor()"
   ]
  },
  {
   "cell_type": "code",
   "execution_count": 5,
   "id": "54ac358a-4554-4c52-8ae9-5a0e04e151b4",
   "metadata": {},
   "outputs": [
    {
     "name": "stdout",
     "output_type": "stream",
     "text": [
      "Using tagid 1\n"
     ]
    }
   ],
   "source": [
    "tag = \"latest\"   # Eventually we'll probably want to use \"default\"\n",
    "db.rollback()\n",
    "q = ( \"SELECT id,tag FROM versiontags WHERE tag=%(tag)s\" )\n",
    "cursor.execute( q, { \"tag\": tag } )\n",
    "row = cursor.fetchone()\n",
    "tagid = row['id']\n",
    "print( f\"Using tagid {tagid}\" )\n"
   ]
  },
  {
   "cell_type": "code",
   "execution_count": 38,
   "id": "d7fe086a-39e0-47e8-9528-80a1f9070a3e",
   "metadata": {},
   "outputs": [],
   "source": [
    "# Melissa's query\n",
    "# (Modified to use a rb cutoff of 0.3, which is the criterion for alerts for rbtype 2)\n",
    "\n",
    "q = (\"SELECT od.ra, od.dec, od.mag, od.magerr, rbs.rb, i.filter, i.meanmjd, e.proposalid \"\n",
    "     \"FROM objectdatas AS od \"\n",
    "     \"INNER JOIN objectdata_versiontag AS odvt ON od.id=odvt.objectdata_id AND odvt.versiontag_id=%(tagid)s \"\n",
    "     \"INNER JOIN objects AS o ON od.object_id=o.id \"\n",
    "     \"INNER JOIN images AS i ON o.image_id=i.id \"\n",
    "     \"INNER JOIN objectrbs as rbs ON od.id=rbs.objectdata_id AND rbs.rbtype_id=2 \"\n",
    "     \"INNER JOIN exposures AS e ON i.exposure_id=e.id \"\n",
    "     \"WHERE od.ra > 5.0 AND od.ra < 12.0 AND od.dec > -46 AND od.dec < -41 \"\n",
    "     \"AND rbs.rb > 0.3 \"\n",
    "     \"AND (e.proposalid = '2021A-0113' OR e.proposalid = '2021B-0149' OR \"\n",
    "     \"e.proposalid = '2022A-724693' OR e.proposalid = '2022B-762878') \"\n",
    "     \"LIMIT 10000000\" )\n",
    "cursor.execute( q, { 'tagid': tagid } )\n",
    "df = pandas.DataFrame( cursor.fetchall() )\n",
    "\n"
   ]
  },
  {
   "cell_type": "code",
   "execution_count": 39,
   "id": "c746f7e7-a3b9-4151-9bfe-a342aae765d0",
   "metadata": {},
   "outputs": [],
   "source": [
    "clr_cosmos = 'dodgerblue'\n",
    "clr_elais  = 'darkviolet'\n",
    "fclr_cosmos = ['darkgreen', 'firebrick', 'saddlebrown']\n",
    "fclr_elais  = ['limegreen', 'orange', 'lightcoral']\n",
    "gx = numpy.where(df['filter'] == 'g')[0]\n",
    "rx = numpy.where(df['filter'] == 'r')[0]\n",
    "ix = numpy.where(df['filter'] == 'i')[0]"
   ]
  },
  {
   "cell_type": "code",
   "execution_count": 40,
   "id": "dea8d57e-7268-4ff1-af7a-d591ae81b88c",
   "metadata": {},
   "outputs": [
    {
     "data": {
      "image/png": "[encoded data removed]",
      "text/plain": [
       "<Figure size 432x288 with 1 Axes>"
      ]
     },
     "metadata": {
      "needs_background": "light"
     },
     "output_type": "display_data"
    }
   ],
   "source": [
    "pyplot.axvline(59247, lw=4, alpha=0.2, color='blue')        # 2021A start\n",
    "pyplot.axvline(59428, lw=4, alpha=0.2, color='deepskyblue') # 2021B start\n",
    "pyplot.axvline(59612, lw=4, alpha=0.2, color='blue')        # 2022A start\n",
    "pyplot.axvline(59793, lw=4, alpha=0.2, color='deepskyblue') # 2022B start\n",
    "\n",
    "pyplot.hist(df['meanmjd'][gx], bins=100, histtype='step', cumulative=True, color=fclr_elais[0], label='g')\n",
    "pyplot.hist(df['meanmjd'][rx], bins=100, histtype='step', cumulative=True, color=fclr_elais[1], label='r')\n",
    "pyplot.hist(df['meanmjd'][ix], bins=100, histtype='step', cumulative=True, color=fclr_elais[2], label='i')\n",
    "pyplot.xlabel('Mean Julian Date')\n",
    "pyplot.ylabel('Cumulative Number of Objects')\n",
    "pyplot.legend(loc='best')\n",
    "pyplot.show()\n"
   ]
  },
  {
   "cell_type": "code",
   "execution_count": 41,
   "id": "297d13c3-852e-4616-a6e0-349271d6477e",
   "metadata": {},
   "outputs": [
    {
     "data": {
      "text/html": [
       "<div>\n",
       "<style scoped>\n",
       "    .dataframe tbody tr th:only-of-type {\n",
       "        vertical-align: middle;\n",
       "    }\n",
       "\n",
       "    .dataframe tbody tr th {\n",
       "        vertical-align: top;\n",
       "    }\n",
       "\n",
       "    .dataframe thead th {\n",
       "        text-align: right;\n",
       "    }\n",
       "</style>\n",
       "<table border=\"1\" class=\"dataframe\">\n",
       "  <thead>\n",
       "    <tr style=\"text-align: right;\">\n",
       "      <th></th>\n",
       "      <th>id</th>\n",
       "      <th>filename</th>\n",
       "      <th>mjd</th>\n",
       "      <th>filter</th>\n",
       "      <th>count</th>\n",
       "    </tr>\n",
       "  </thead>\n",
       "  <tbody>\n",
       "    <tr>\n",
       "      <th>0</th>\n",
       "      <td>1162</td>\n",
       "      <td>c4d_210522_083330_ori.fits.fz</td>\n",
       "      <td>59356.356605</td>\n",
       "      <td>g</td>\n",
       "      <td>25</td>\n",
       "    </tr>\n",
       "    <tr>\n",
       "      <th>1</th>\n",
       "      <td>1163</td>\n",
       "      <td>c4d_210522_083408_ori.fits.fz</td>\n",
       "      <td>59356.357045</td>\n",
       "      <td>g</td>\n",
       "      <td>66</td>\n",
       "    </tr>\n",
       "    <tr>\n",
       "      <th>2</th>\n",
       "      <td>1164</td>\n",
       "      <td>c4d_210522_083537_ori.fits.fz</td>\n",
       "      <td>59356.358075</td>\n",
       "      <td>r</td>\n",
       "      <td>106</td>\n",
       "    </tr>\n",
       "    <tr>\n",
       "      <th>3</th>\n",
       "      <td>1165</td>\n",
       "      <td>c4d_210522_083731_ori.fits.fz</td>\n",
       "      <td>59356.359396</td>\n",
       "      <td>i</td>\n",
       "      <td>89</td>\n",
       "    </tr>\n",
       "    <tr>\n",
       "      <th>4</th>\n",
       "      <td>1166</td>\n",
       "      <td>c4d_210522_084011_ori.fits.fz</td>\n",
       "      <td>59356.361243</td>\n",
       "      <td>g</td>\n",
       "      <td>76</td>\n",
       "    </tr>\n",
       "    <tr>\n",
       "      <th>...</th>\n",
       "      <td>...</td>\n",
       "      <td>...</td>\n",
       "      <td>...</td>\n",
       "      <td>...</td>\n",
       "      <td>...</td>\n",
       "    </tr>\n",
       "    <tr>\n",
       "      <th>2209</th>\n",
       "      <td>14140</td>\n",
       "      <td>c4d_221110_051952_ori.fits.fz</td>\n",
       "      <td>59893.222137</td>\n",
       "      <td>r</td>\n",
       "      <td>32</td>\n",
       "    </tr>\n",
       "    <tr>\n",
       "      <th>2210</th>\n",
       "      <td>14141</td>\n",
       "      <td>c4d_221110_052148_ori.fits.fz</td>\n",
       "      <td>59893.223483</td>\n",
       "      <td>i</td>\n",
       "      <td>19</td>\n",
       "    </tr>\n",
       "    <tr>\n",
       "      <th>2211</th>\n",
       "      <td>14142</td>\n",
       "      <td>c4d_221110_052426_ori.fits.fz</td>\n",
       "      <td>59893.225303</td>\n",
       "      <td>g</td>\n",
       "      <td>37</td>\n",
       "    </tr>\n",
       "    <tr>\n",
       "      <th>2212</th>\n",
       "      <td>14143</td>\n",
       "      <td>c4d_221110_052554_ori.fits.fz</td>\n",
       "      <td>59893.226320</td>\n",
       "      <td>r</td>\n",
       "      <td>40</td>\n",
       "    </tr>\n",
       "    <tr>\n",
       "      <th>2213</th>\n",
       "      <td>14144</td>\n",
       "      <td>c4d_221110_052749_ori.fits.fz</td>\n",
       "      <td>59893.227653</td>\n",
       "      <td>i</td>\n",
       "      <td>18</td>\n",
       "    </tr>\n",
       "  </tbody>\n",
       "</table>\n",
       "<p>2214 rows × 5 columns</p>\n",
       "</div>"
      ],
      "text/plain": [
       "         id                       filename           mjd filter  count\n",
       "0      1162  c4d_210522_083330_ori.fits.fz  59356.356605      g     25\n",
       "1      1163  c4d_210522_083408_ori.fits.fz  59356.357045      g     66\n",
       "2      1164  c4d_210522_083537_ori.fits.fz  59356.358075      r    106\n",
       "3      1165  c4d_210522_083731_ori.fits.fz  59356.359396      i     89\n",
       "4      1166  c4d_210522_084011_ori.fits.fz  59356.361243      g     76\n",
       "...     ...                            ...           ...    ...    ...\n",
       "2209  14140  c4d_221110_051952_ori.fits.fz  59893.222137      r     32\n",
       "2210  14141  c4d_221110_052148_ori.fits.fz  59893.223483      i     19\n",
       "2211  14142  c4d_221110_052426_ori.fits.fz  59893.225303      g     37\n",
       "2212  14143  c4d_221110_052554_ori.fits.fz  59893.226320      r     40\n",
       "2213  14144  c4d_221110_052749_ori.fits.fz  59893.227653      i     18\n",
       "\n",
       "[2214 rows x 5 columns]"
      ]
     },
     "execution_count": 41,
     "metadata": {},
     "output_type": "execute_result"
    }
   ],
   "source": [
    "# Is this right?\n",
    "# Let's do a different query : objects per exposure\n",
    "db.rollback()\n",
    "q = (\"SELECT e.id,e.filename,e.mjd,e.filter,COUNT(od.id) \"\n",
    "     \"FROM objectdatas AS od \"\n",
    "     \"INNER JOIN objectdata_versiontag AS odvt ON od.id=odvt.objectdata_id AND odvt.versiontag_id=%(tagid)s \"\n",
    "     \"INNER JOIN objects AS o ON od.object_id=o.id \"\n",
    "     \"INNER JOIN images AS i ON o.image_id=i.id \"\n",
    "     \"INNER JOIN objectrbs as rbs ON od.id=rbs.objectdata_id AND rbs.rbtype_id=2 \"\n",
    "     \"INNER JOIN exposures AS e ON i.exposure_id=e.id \"\n",
    "     \"WHERE e.ra > 5.0 AND e.ra < 12.0 AND e.dec > -46 AND e.dec < -41 \"\n",
    "     \"AND rbs.rb >= 0.3 \"\n",
    "     \"AND (e.proposalid = '2021A-0113' OR e.proposalid = '2021B-0149' OR \"\n",
    "     \"     e.proposalid = '2022A-724693' OR e.proposalid = '2022B-762878') \"\n",
    "     \"GROUP BY e.id,e.filename,e.mjd,e.filter \"\n",
    "     \"ORDER BY e.mjd \"\n",
    "     \"LIMIT 10000000\" )\n",
    "cursor.execute( q, { 'tagid': tagid } )\n",
    "df = pandas.DataFrame( cursor.fetchall() )\n",
    "df"
   ]
  },
  {
   "cell_type": "code",
   "execution_count": 42,
   "id": "7fa0fa02-119b-4644-afe7-8d5c8bf069c1",
   "metadata": {},
   "outputs": [
    {
     "data": {
      "image/png": "[encoded data removed]",
      "text/plain": [
       "<Figure size 432x288 with 1 Axes>"
      ]
     },
     "metadata": {
      "needs_background": "light"
     },
     "output_type": "display_data"
    }
   ],
   "source": [
    "dfr = df[ df['filter']=='r' ]\n",
    "dfg = df[ df['filter']=='g' ]\n",
    "dfi = df[ df['filter']=='i' ]\n",
    "\n",
    "\n",
    "pyplot.axvline(59247, lw=4, alpha=0.2, color='blue')        # 2021A start\n",
    "pyplot.axvline(59428, lw=4, alpha=0.2, color='deepskyblue') # 2021B start\n",
    "pyplot.axvline(59612, lw=4, alpha=0.2, color='blue')        # 2022A start\n",
    "pyplot.axvline(59793, lw=4, alpha=0.2, color='deepskyblue') # 2022B start\n",
    "\n",
    "pyplot.hist(dfg.mjd, bins=100, histtype='step', cumulative=True, color=fclr_elais[0], label='g')\n",
    "pyplot.hist(dfr.mjd, bins=100, histtype='step', cumulative=True, color=fclr_elais[1], label='r')\n",
    "pyplot.hist(dfi.mjd, bins=100, histtype='step', cumulative=True, color=fclr_elais[2], label='i')\n",
    "pyplot.title('Cumulative number of ELAIS exposures')\n",
    "pyplot.xlabel('Mean Julian Date')\n",
    "pyplot.ylabel('Cumulative Number of Exposures')\n",
    "pyplot.legend(loc='best')\n",
    "pyplot.show()"
   ]
  },
  {
   "cell_type": "code",
   "execution_count": 48,
   "id": "070f2ea8-6baa-49b8-ad07-1d002647b68e",
   "metadata": {},
   "outputs": [
    {
     "data": {
      "image/png": "[encoded data removed]",
      "text/plain": [
       "<Figure size 432x288 with 1 Axes>"
      ]
     },
     "metadata": {
      "needs_background": "light"
     },
     "output_type": "display_data"
    }
   ],
   "source": [
    "# This should be the same as the plot from melissa's query\n",
    "\n",
    "pyplot.axvline(59247, lw=4, alpha=0.2, color='blue')        # 2021A start\n",
    "pyplot.axvline(59428, lw=4, alpha=0.2, color='deepskyblue') # 2021B start\n",
    "pyplot.axvline(59612, lw=4, alpha=0.2, color='blue')        # 2022A start\n",
    "pyplot.axvline(59793, lw=4, alpha=0.2, color='deepskyblue') # 2022B start\n",
    "\n",
    "pyplot.plot(dfg.mjd, dfg['count'].cumsum(), color=fclr_elais[0], label='g')\n",
    "pyplot.plot(dfr.mjd, dfr['count'].cumsum(), color=fclr_elais[1], label='r')\n",
    "pyplot.plot(dfi.mjd, dfi['count'].cumsum(), color=fclr_elais[2], label='i')\n",
    "pyplot.title('Cumulative number of ELAIS rb≥0.3 objects')\n",
    "pyplot.xlabel('Mean Julian Date')\n",
    "pyplot.ylabel('Cumulative Number of Objects')\n",
    "pyplot.legend(loc='best')\n",
    "(ymin, ymax) = pyplot.gca().get_ylim()\n",
    "pyplot.ylim( 0, ymax )\n",
    "pyplot.show()"
   ]
  },
  {
   "cell_type": "code",
   "execution_count": 44,
   "id": "fdfb45b1-511b-437b-a405-b578904058cf",
   "metadata": {},
   "outputs": [
    {
     "data": {
      "image/png": "[encoded data removed]",
      "text/plain": [
       "<Figure size 432x288 with 1 Axes>"
      ]
     },
     "metadata": {
      "needs_background": "light"
     },
     "output_type": "display_data"
    }
   ],
   "source": [
    "pyplot.hist( dfg['count'], color=fclr_elais[0], histtype='step', label='g' )\n",
    "pyplot.hist( dfr['count'], color=fclr_elais[1], histtype='step', label='r' )\n",
    "pyplot.hist( dfi['count'], color=fclr_elais[2], histtype='step', label='i' )\n",
    "\n",
    "pyplot.title('ELAIS rb≥0.3 objects / exposure')\n",
    "pyplot.xlabel('Number of Objects per Exposure')\n",
    "pyplot.ylabel('n')\n",
    "pyplot.legend(loc='best')\n",
    "pyplot.show()"
   ]
  },
  {
   "cell_type": "code",
   "execution_count": null,
   "id": "15354508-79d7-4122-9ec2-df653156223b",
   "metadata": {},
   "outputs": [],
   "source": []
  }
 ],
 "metadata": {
  "kernelspec": {
   "display_name": "NERSC Python",
   "language": "python",
   "name": "python3"
  },
  "language_info": {
   "codemirror_mode": {
    "name": "ipython",
    "version": 3
   },
   "file_extension": ".py",
   "mimetype": "text/x-python",
   "name": "python",
   "nbconvert_exporter": "python",
   "pygments_lexer": "ipython3",
   "version": "3.9.7"
  }
 },
 "nbformat": 4,
 "nbformat_minor": 5
}
